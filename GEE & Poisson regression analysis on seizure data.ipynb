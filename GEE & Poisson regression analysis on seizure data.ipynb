{
 "cells": [
  {
   "cell_type": "markdown",
   "metadata": {},
   "source": [
    "### Load Libraries"
   ]
  },
  {
   "cell_type": "code",
   "execution_count": 1,
   "metadata": {},
   "outputs": [],
   "source": [
    "import matplotlib.pyplot as plt\n",
    "%matplotlib inline\n",
    "\n",
    "import numpy as np\n",
    "import pandas as pd\n",
    "from statsmodels.genmod.generalized_estimating_equations import GEE \n",
    "from statsmodels.genmod.cov_struct import (Exchangeable, Independence, Autoregressive)\n",
    "from statsmodels.genmod.families import Poisson"
   ]
  },
  {
   "cell_type": "markdown",
   "metadata": {},
   "source": [
    "### The data is a study of the number of seizures being recorded on each of 236 subjects over a 16 week period, with a treatment introduced at the end of week 8. The seizure count were binned as follows: weeks 1-8, 9-10, 11-12, 13-14, 15-16. As a longitudinal data that has five measurements per subject, there's likely to be within-subject dependence."
   ]
  },
  {
   "cell_type": "code",
   "execution_count": 2,
   "metadata": {},
   "outputs": [
    {
     "data": {
      "text/html": [
       "<div>\n",
       "<style scoped>\n",
       "    .dataframe tbody tr th:only-of-type {\n",
       "        vertical-align: middle;\n",
       "    }\n",
       "\n",
       "    .dataframe tbody tr th {\n",
       "        vertical-align: top;\n",
       "    }\n",
       "\n",
       "    .dataframe thead th {\n",
       "        text-align: right;\n",
       "    }\n",
       "</style>\n",
       "<table border=\"1\" class=\"dataframe\">\n",
       "  <thead>\n",
       "    <tr style=\"text-align: right;\">\n",
       "      <th></th>\n",
       "      <th>Unnamed: 0</th>\n",
       "      <th>y</th>\n",
       "      <th>trt</th>\n",
       "      <th>base</th>\n",
       "      <th>age</th>\n",
       "      <th>V4</th>\n",
       "      <th>subject</th>\n",
       "      <th>period</th>\n",
       "      <th>lbase</th>\n",
       "      <th>lage</th>\n",
       "    </tr>\n",
       "  </thead>\n",
       "  <tbody>\n",
       "    <tr>\n",
       "      <th>0</th>\n",
       "      <td>1</td>\n",
       "      <td>5</td>\n",
       "      <td>placebo</td>\n",
       "      <td>11</td>\n",
       "      <td>31</td>\n",
       "      <td>0</td>\n",
       "      <td>1</td>\n",
       "      <td>1</td>\n",
       "      <td>-0.756354</td>\n",
       "      <td>0.114204</td>\n",
       "    </tr>\n",
       "    <tr>\n",
       "      <th>1</th>\n",
       "      <td>2</td>\n",
       "      <td>3</td>\n",
       "      <td>placebo</td>\n",
       "      <td>11</td>\n",
       "      <td>31</td>\n",
       "      <td>0</td>\n",
       "      <td>1</td>\n",
       "      <td>2</td>\n",
       "      <td>-0.756354</td>\n",
       "      <td>0.114204</td>\n",
       "    </tr>\n",
       "    <tr>\n",
       "      <th>2</th>\n",
       "      <td>3</td>\n",
       "      <td>3</td>\n",
       "      <td>placebo</td>\n",
       "      <td>11</td>\n",
       "      <td>31</td>\n",
       "      <td>0</td>\n",
       "      <td>1</td>\n",
       "      <td>3</td>\n",
       "      <td>-0.756354</td>\n",
       "      <td>0.114204</td>\n",
       "    </tr>\n",
       "    <tr>\n",
       "      <th>3</th>\n",
       "      <td>4</td>\n",
       "      <td>3</td>\n",
       "      <td>placebo</td>\n",
       "      <td>11</td>\n",
       "      <td>31</td>\n",
       "      <td>1</td>\n",
       "      <td>1</td>\n",
       "      <td>4</td>\n",
       "      <td>-0.756354</td>\n",
       "      <td>0.114204</td>\n",
       "    </tr>\n",
       "    <tr>\n",
       "      <th>4</th>\n",
       "      <td>5</td>\n",
       "      <td>3</td>\n",
       "      <td>placebo</td>\n",
       "      <td>11</td>\n",
       "      <td>30</td>\n",
       "      <td>0</td>\n",
       "      <td>2</td>\n",
       "      <td>1</td>\n",
       "      <td>-0.756354</td>\n",
       "      <td>0.081414</td>\n",
       "    </tr>\n",
       "  </tbody>\n",
       "</table>\n",
       "</div>"
      ],
      "text/plain": [
       "   Unnamed: 0  y      trt  base  age  V4  subject  period     lbase      lage\n",
       "0           1  5  placebo    11   31   0        1       1 -0.756354  0.114204\n",
       "1           2  3  placebo    11   31   0        1       2 -0.756354  0.114204\n",
       "2           3  3  placebo    11   31   0        1       3 -0.756354  0.114204\n",
       "3           4  3  placebo    11   31   1        1       4 -0.756354  0.114204\n",
       "4           5  3  placebo    11   30   0        2       1 -0.756354  0.081414"
      ]
     },
     "execution_count": 2,
     "metadata": {},
     "output_type": "execute_result"
    }
   ],
   "source": [
    "dt_df = pd.read_csv('epil.csv')\n",
    "dt_df.head()"
   ]
  },
  {
   "cell_type": "markdown",
   "metadata": {},
   "source": [
    "### We make some investigation to gain information about the dataset"
   ]
  },
  {
   "cell_type": "code",
   "execution_count": 3,
   "metadata": {},
   "outputs": [
    {
     "name": "stdout",
     "output_type": "stream",
     "text": [
      "<class 'pandas.core.frame.DataFrame'>\n",
      "RangeIndex: 236 entries, 0 to 235\n",
      "Data columns (total 10 columns):\n",
      " #   Column      Non-Null Count  Dtype  \n",
      "---  ------      --------------  -----  \n",
      " 0   Unnamed: 0  236 non-null    int64  \n",
      " 1   y           236 non-null    int64  \n",
      " 2   trt         236 non-null    object \n",
      " 3   base        236 non-null    int64  \n",
      " 4   age         236 non-null    int64  \n",
      " 5   V4          236 non-null    int64  \n",
      " 6   subject     236 non-null    int64  \n",
      " 7   period      236 non-null    int64  \n",
      " 8   lbase       236 non-null    float64\n",
      " 9   lage        236 non-null    float64\n",
      "dtypes: float64(2), int64(7), object(1)\n",
      "memory usage: 18.6+ KB\n"
     ]
    }
   ],
   "source": [
    "dt_df.info()"
   ]
  },
  {
   "cell_type": "code",
   "execution_count": 4,
   "metadata": {},
   "outputs": [],
   "source": [
    "#We plot graph to show the baseline seizure count in relation to the seizure count in each of the 4 follow-up periods. And then compare the relationship between the 2. We then use the square root transform to reduce skew (note also the square root transform is variance stabilizing transformation for the Poisson distribution)"
   ]
  },
  {
   "cell_type": "code",
   "execution_count": 5,
   "metadata": {},
   "outputs": [
    {
     "data": {
      "image/png": "[encoded data removed]",
      "text/plain": [
       "<Figure size 432x288 with 1 Axes>"
      ]
     },
     "metadata": {
      "needs_background": "light"
     },
     "output_type": "display_data"
    }
   ],
   "source": [
    "for period in range(1, 5):\n",
    "    ii = dt_df['period'] == period\n",
    "    x = np.sqrt(dt_df['base'].loc[ii])\n",
    "    y = np.sqrt(dt_df['y'].loc[ii])\n",
    "    plt.plot(x, y, 'o', color='rgbc'[period-1], label=str(period), alpha=0.5)\n",
    "plt.xlabel('Baseline', size=17)\n",
    "plt.ylabel('Follow-up', size=17)\n",
    "plt.ylim(ymin=-0.5)\n",
    "ha, lb = plt.gca().get_legend_handles_labels()\n",
    "leg = plt.figlegend(ha, lb, 'center right', numpoints=1, handletextpad=0.0001)\n",
    "leg.draw_frame(False)"
   ]
  },
  {
   "cell_type": "markdown",
   "metadata": {},
   "source": [
    "### As the graph showed, the subject having more seizures in the baseline period also had more seizure in the follow-up periods."
   ]
  },
  {
   "cell_type": "code",
   "execution_count": 7,
   "metadata": {},
   "outputs": [
    {
     "name": "stdout",
     "output_type": "stream",
     "text": [
      "                               GEE Regression Results                              \n",
      "===================================================================================\n",
      "Dep. Variable:                           y   No. Observations:                  236\n",
      "Model:                                 GEE   No. clusters:                       59\n",
      "Method:                        Generalized   Min. cluster size:                   4\n",
      "                      Estimating Equations   Max. cluster size:                   4\n",
      "Family:                            Poisson   Mean cluster size:                 4.0\n",
      "Dependence structure:         Independence   Num. iterations:                     2\n",
      "Date:                     Thu, 01 Jul 2021   Scale:                           1.000\n",
      "Covariance type:                    robust   Time:                         03:52:07\n",
      "====================================================================================\n",
      "                       coef    std err          z      P>|z|      [0.025      0.975]\n",
      "------------------------------------------------------------------------------------\n",
      "Intercept            0.5730      0.361      1.589      0.112      -0.134       1.280\n",
      "trt[T.progabide]    -0.1519      0.171     -0.888      0.375      -0.487       0.183\n",
      "age                  0.0223      0.011      1.960      0.050    2.11e-06       0.045\n",
      "base                 0.0226      0.001     18.451      0.000       0.020       0.025\n",
      "==============================================================================\n",
      "Skew:                          3.7823   Kurtosis:                      28.6672\n",
      "Centered skew:                 2.7597   Centered kurtosis:             21.9865\n",
      "==============================================================================\n"
     ]
    }
   ],
   "source": [
    "fam = Poisson()\n",
    "ind = Independence()\n",
    "model1 = GEE.from_formula('y ~ age + trt + base', 'subject', dt_df, cov_struct=ind, family=fam)\n",
    "result1 = model1.fit()\n",
    "print(result1.summary())"
   ]
  },
  {
   "cell_type": "markdown",
   "metadata": {},
   "source": [
    "### The scatterplot shown above, suggest that there is positive relationship between baseline seizure and follow-up seizure. The standard deviation of the number of baseline seizures is 26.7. Also there ios a positive relationship between age and post treatment seizure counts. The subjects in the treatment arm have fewer seizures, but there is no statistical evidence of a treatment effect."
   ]
  },
  {
   "cell_type": "code",
   "execution_count": 15,
   "metadata": {
    "scrolled": true
   },
   "outputs": [
    {
     "data": {
      "text/plain": [
       "1.0"
      ]
     },
     "execution_count": 15,
     "metadata": {},
     "output_type": "execute_result"
    }
   ],
   "source": [
    "result1.scale"
   ]
  },
  {
   "cell_type": "code",
   "execution_count": null,
   "metadata": {},
   "outputs": [],
   "source": [
    "# The scale of the result1 output showed that the variance of the seizure occurrence is 1 by 1 to the mean. Next is the plot of the empirical mean/variance relationship. So we plot the mean of the repeated measures for each of subject against corresponding variance. "
   ]
  },
  {
   "cell_type": "code",
   "execution_count": 17,
   "metadata": {
    "scrolled": true
   },
   "outputs": [
    {
     "name": "stderr",
     "output_type": "stream",
     "text": [
      "C:\\anaconda\\lib\\site-packages\\ipykernel_launcher.py:5: RuntimeWarning: divide by zero encountered in log\n",
      "  \"\"\"\n"
     ]
    },
    {
     "data": {
      "text/plain": [
       "Text(0, 0.5, 'log mean')"
      ]
     },
     "execution_count": 17,
     "metadata": {},
     "output_type": "execute_result"
    },
    {
     "data": {
      "image/png": "[encoded data removed]",
      "text/plain": [
       "<Figure size 432x288 with 1 Axes>"
      ]
     },
     "metadata": {
      "needs_background": "light"
     },
     "output_type": "display_data"
    }
   ],
   "source": [
    "yg = model1.cluster_list(np.asarray(dt_df['y']))\n",
    "ymn = [x.mean() for x in yg]\n",
    "yva = [x.var() for x in yg]\n",
    "plt.grid(True)\n",
    "plt.plot(np.log(ymn), np.log(yva), 'o')\n",
    "plt.plot([-2, 6], [-2, 6], '-', color='gray')\n",
    "plt.xlabel('Log Variance', size=17)\n",
    "plt.ylabel('log mean', size=17)"
   ]
  },
  {
   "cell_type": "markdown",
   "metadata": {},
   "source": [
    "### This is an exchangeable working dependence structure to give the same parameter estimate and standard errors in this case as the independence structure."
   ]
  },
  {
   "cell_type": "code",
   "execution_count": 11,
   "metadata": {},
   "outputs": [
    {
     "name": "stdout",
     "output_type": "stream",
     "text": [
      "                               GEE Regression Results                              \n",
      "===================================================================================\n",
      "Dep. Variable:                           y   No. Observations:                  236\n",
      "Model:                                 GEE   No. clusters:                       59\n",
      "Method:                        Generalized   Min. cluster size:                   4\n",
      "                      Estimating Equations   Max. cluster size:                   4\n",
      "Family:                            Poisson   Mean cluster size:                 4.0\n",
      "Dependence structure:         Exchangeable   Num. iterations:                     2\n",
      "Date:                     Thu, 01 Jul 2021   Scale:                           1.000\n",
      "Covariance type:                    robust   Time:                         03:52:08\n",
      "====================================================================================\n",
      "                       coef    std err          z      P>|z|      [0.025      0.975]\n",
      "------------------------------------------------------------------------------------\n",
      "Intercept            0.5730      0.361      1.589      0.112      -0.134       1.280\n",
      "trt[T.progabide]    -0.1519      0.171     -0.888      0.375      -0.487       0.183\n",
      "age                  0.0223      0.011      1.960      0.050    2.11e-06       0.045\n",
      "base                 0.0226      0.001     18.451      0.000       0.020       0.025\n",
      "==============================================================================\n",
      "Skew:                          3.7823   Kurtosis:                      28.6672\n",
      "Centered skew:                 2.7597   Centered kurtosis:             21.9865\n",
      "==============================================================================\n",
      "The correlation between two observations in the same cluster is 0.393\n"
     ]
    }
   ],
   "source": [
    "fam = Poisson()\n",
    "ex = Exchangeable()\n",
    "model2 = GEE.from_formula('y ~ age + trt + base', 'subject', dt_df, cov_struct=ex, family=fam)\n",
    "result2 = model2.fit()\n",
    "print(result2.summary())\n",
    "print(ex.summary())"
   ]
  },
  {
   "cell_type": "markdown",
   "metadata": {},
   "source": [
    "### We now go ahead and fit the model with an autoregressive dependence structure. So starting value is going to be needed to get the estimating algorithm to converge."
   ]
  },
  {
   "cell_type": "code",
   "execution_count": 12,
   "metadata": {},
   "outputs": [
    {
     "name": "stdout",
     "output_type": "stream",
     "text": [
      "                               GEE Regression Results                              \n",
      "===================================================================================\n",
      "Dep. Variable:                           y   No. Observations:                  236\n",
      "Model:                                 GEE   No. clusters:                       59\n",
      "Method:                        Generalized   Min. cluster size:                   4\n",
      "                      Estimating Equations   Max. cluster size:                   4\n",
      "Family:                            Poisson   Mean cluster size:                 4.0\n",
      "Dependence structure:       Autoregressive   Num. iterations:                    30\n",
      "Date:                     Thu, 01 Jul 2021   Scale:                           1.000\n",
      "Covariance type:                    robust   Time:                         03:52:08\n",
      "====================================================================================\n",
      "                       coef    std err          z      P>|z|      [0.025      0.975]\n",
      "------------------------------------------------------------------------------------\n",
      "Intercept            0.4123      0.422      0.977      0.329      -0.415       1.240\n",
      "trt[T.progabide]    -0.0704      0.164     -0.430      0.667      -0.391       0.250\n",
      "age                  0.0274      0.013      2.108      0.035       0.002       0.053\n",
      "base                 0.0223      0.001     18.252      0.000       0.020       0.025\n",
      "==============================================================================\n",
      "Skew:                          3.9903   Kurtosis:                      30.1753\n",
      "Centered skew:                 2.7597   Centered kurtosis:             21.9865\n",
      "==============================================================================\n",
      "Autoregressive(1) dependence parameter: 0.500\n",
      "\n",
      "scale=1.00\n"
     ]
    }
   ],
   "source": [
    "time = np.kron(\n",
    "    np.ones(\n",
    "        dt_df.shape[0]//4), (\n",
    "        0,1,2,3))\n",
    "fam = Poisson()\n",
    "ar = Autoregressive()\n",
    "ar.dep_params = 0.4\n",
    "model3 = GEE.from_formula(\"y ~ age + trt + base\", \"subject\", dt_df, time=time, cov_struct=ar, family=fam)\n",
    "result3 = model3.fit(start_params=result2.params)\n",
    "print(result3.summary())\n",
    "print(ar.summary())\n",
    "print(\"scale=%.2f\" % (result2.scale))"
   ]
  },
  {
   "cell_type": "markdown",
   "metadata": {},
   "source": [
    "### In an attempt to probe dependence structure a bit more, we plot a graph of empirical correlation between residuals of the time spacing. So the plot suggest that the dependence decreases with time, so the autoregressive structure seems to be more suitable."
   ]
  },
  {
   "cell_type": "code",
   "execution_count": 13,
   "metadata": {},
   "outputs": [
    {
     "data": {
      "image/png": "[encoded data removed]",
      "text/plain": [
       "<Figure size 432x288 with 1 Axes>"
      ]
     },
     "metadata": {
      "needs_background": "light"
     },
     "output_type": "display_data"
    }
   ],
   "source": [
    "fig = result1.plot_isotropic_dependence()\n",
    "plt.grid(True)"
   ]
  },
  {
   "cell_type": "markdown",
   "metadata": {},
   "source": [
    "### Now let's look at how one of the regressive parameters changes as we hold the autocorrelation parameter fixed at various values. The broken vertical line shows the estimate autocorrelation parameter."
   ]
  },
  {
   "cell_type": "code",
   "execution_count": 14,
   "metadata": {},
   "outputs": [
    {
     "data": {
      "text/plain": [
       "Text(0, 0.5, 'Age effect')"
      ]
     },
     "execution_count": 14,
     "metadata": {},
     "output_type": "execute_result"
    },
    {
     "data": {
      "image/png": "[encoded data removed]",
      "text/plain": [
       "<Figure size 432x288 with 1 Axes>"
      ]
     },
     "metadata": {
      "needs_background": "light"
     },
     "output_type": "display_data"
    }
   ],
   "source": [
    "rslts = result3.params_sensitivity(0., 0.9, 5)\n",
    "dp = [x.cov_struct.dep_params for x in rslts]\n",
    "age_params = np.asarray([x.params[2] for x in rslts])\n",
    "age_se = np.asarray([x.bse[2] for x in rslts])\n",
    "plt.grid(True)\n",
    "plt.plot(dp, age_params, '-', color='orange', lw=4)\n",
    "plt.plot(dp, age_params + age_se, '-', color='grey')\n",
    "plt.plot(dp, age_params - age_se, '-', color='grey')\n",
    "plt.axvline(result3.cov_struct.dep_params, ls='--', color='black')\n",
    "plt.xlabel(\"Autocorrelation parameter\", size=14)\n",
    "plt.ylabel(\"Age effect\", size=14)"
   ]
  },
  {
   "cell_type": "code",
   "execution_count": null,
   "metadata": {},
   "outputs": [],
   "source": []
  }
 ],
 "metadata": {
  "kernelspec": {
   "display_name": "Python 3",
   "language": "python",
   "name": "python3"
  },
  "language_info": {
   "codemirror_mode": {
    "name": "ipython",
    "version": 3
   },
   "file_extension": ".py",
   "mimetype": "text/x-python",
   "name": "python",
   "nbconvert_exporter": "python",
   "pygments_lexer": "ipython3",
   "version": "3.7.6"
  }
 },
 "nbformat": 4,
 "nbformat_minor": 4
}
